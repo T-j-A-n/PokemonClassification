{
 "cells": [
  {
   "cell_type": "code",
   "execution_count": null,
   "metadata": {
    "_cell_guid": "b1076dfc-b9ad-4769-8c92-a6c4dae69d19",
    "_uuid": "8f2839f25d086af736a60e9eeb907d3b93b6e0e5",
    "execution": {
     "iopub.execute_input": "2025-02-21T16:33:59.958010Z",
     "iopub.status.busy": "2025-02-21T16:33:59.957663Z",
     "iopub.status.idle": "2025-02-21T16:34:04.690420Z",
     "shell.execute_reply": "2025-02-21T16:34:04.689578Z",
     "shell.execute_reply.started": "2025-02-21T16:33:59.957986Z"
    },
    "trusted": true
   },
   "outputs": [],
   "source": [
    "import numpy as np \n",
    "import pandas as pd #\n",
    "import os\n",
    "\n",
    "for dirname, _, filenames in os.walk('/kaggle/input'):\n",
    "    for filename in filenames:\n",
    "        print(os.path.join(dirname, filename))"
   ]
  },
  {
   "cell_type": "code",
   "execution_count": null,
   "metadata": {
    "execution": {
     "iopub.execute_input": "2025-02-21T03:33:33.047236Z",
     "iopub.status.busy": "2025-02-21T03:33:33.046831Z",
     "iopub.status.idle": "2025-02-21T03:33:33.874371Z",
     "shell.execute_reply": "2025-02-21T03:33:33.873138Z",
     "shell.execute_reply.started": "2025-02-21T03:33:33.047202Z"
    },
    "trusted": true
   },
   "outputs": [],
   "source": [
    "!mkdir -p ~/.kaggle\n",
    "!mv kaggle.json ~/.kaggle/\n",
    "!chmod 600 ~/.kaggle/kaggle(1).json\n",
    "!kaggle competitions download -c dhi-club-tired-weekends-4thsem-1"
   ]
  },
  {
   "cell_type": "code",
   "execution_count": null,
   "metadata": {
    "execution": {
     "iopub.execute_input": "2025-02-21T03:32:12.981417Z",
     "iopub.status.busy": "2025-02-21T03:32:12.981061Z",
     "iopub.status.idle": "2025-02-21T03:32:13.467645Z",
     "shell.execute_reply": "2025-02-21T03:32:13.466406Z",
     "shell.execute_reply.started": "2025-02-21T03:32:12.981390Z"
    },
    "trusted": true
   },
   "outputs": [],
   "source": [
    "!kaggle competitions download -c dhi-club-tired-weekends-4thsem-1"
   ]
  },
  {
   "cell_type": "code",
   "execution_count": null,
   "metadata": {
    "execution": {
     "iopub.execute_input": "2025-02-21T04:12:14.762550Z",
     "iopub.status.busy": "2025-02-21T04:12:14.762210Z",
     "iopub.status.idle": "2025-02-21T04:12:14.766874Z",
     "shell.execute_reply": "2025-02-21T04:12:14.765837Z",
     "shell.execute_reply.started": "2025-02-21T04:12:14.762520Z"
    },
    "trusted": true
   },
   "outputs": [],
   "source": [
    "import tensorflow as tf\n",
    "from tensorflow.keras import models, layers\n",
    "import matplotlib.pyplot as plt\n",
    "import numpy as np\n",
    "import os\n",
    "import imghdr\n",
    "import cv2\n",
    "import matplotlib.pyplot as plt"
   ]
  },
  {
   "cell_type": "code",
   "execution_count": null,
   "metadata": {
    "execution": {
     "iopub.execute_input": "2025-02-21T04:20:31.411053Z",
     "iopub.status.busy": "2025-02-21T04:20:31.410719Z",
     "iopub.status.idle": "2025-02-21T04:20:31.428500Z",
     "shell.execute_reply": "2025-02-21T04:20:31.427700Z",
     "shell.execute_reply.started": "2025-02-21T04:20:31.411028Z"
    },
    "trusted": true
   },
   "outputs": [],
   "source": [
    "os.listdir('/kaggle/input/dhi-dat/train_data/train_data')"
   ]
  },
  {
   "cell_type": "code",
   "execution_count": null,
   "metadata": {
    "execution": {
     "iopub.execute_input": "2025-02-21T16:33:27.003543Z",
     "iopub.status.busy": "2025-02-21T16:33:27.003168Z",
     "iopub.status.idle": "2025-02-21T16:33:27.007313Z",
     "shell.execute_reply": "2025-02-21T16:33:27.006256Z",
     "shell.execute_reply.started": "2025-02-21T16:33:27.003492Z"
    },
    "trusted": true
   },
   "outputs": [],
   "source": [
    "data = '/kaggle/input/dhi-dat/train_data/train_data'\n",
    "img_exists = ['jpeg','jpg','bmp','png']"
   ]
  },
  {
   "cell_type": "code",
   "execution_count": null,
   "metadata": {
    "execution": {
     "iopub.execute_input": "2025-02-21T16:33:28.146419Z",
     "iopub.status.busy": "2025-02-21T16:33:28.146070Z",
     "iopub.status.idle": "2025-02-21T16:33:29.408924Z",
     "shell.execute_reply": "2025-02-21T16:33:29.408215Z",
     "shell.execute_reply.started": "2025-02-21T16:33:28.146393Z"
    },
    "trusted": true
   },
   "outputs": [],
   "source": [
    "for image_class in os.listdir(data):\n",
    "    for image in os.listdir(os.path.join(data, image_class)):\n",
    "        image_path = os.path.join(data, image_class, image)\n",
    "        try:\n",
    "            img = cv2.imread(image_path)\n",
    "            tip = imghdr.what(image_path)\n",
    "            #print(f\"Checking: {image_path} | Detected: {tip}\")  # Debugging line\n",
    "\n",
    "            if tip not in img_exists:\n",
    "                print(f'Image not in ext list {image_path}')\n",
    "                # os.remove(image_path)  # Uncomment only after confirming\n",
    "\n",
    "        except Exception as e:\n",
    "            print(f'Issue with image {image_path}: {e}')\n",
    "            # os.remove(image_path)\n"
   ]
  },
  {
   "cell_type": "code",
   "execution_count": null,
   "metadata": {
    "execution": {
     "iopub.execute_input": "2025-02-21T16:34:30.146211Z",
     "iopub.status.busy": "2025-02-21T16:34:30.145858Z",
     "iopub.status.idle": "2025-02-21T16:35:24.508130Z",
     "shell.execute_reply": "2025-02-21T16:35:24.507209Z",
     "shell.execute_reply.started": "2025-02-21T16:34:30.146183Z"
    },
    "trusted": true
   },
   "outputs": [],
   "source": [
    "import shutil\n",
    "\n",
    "src = \"/kaggle/input/dhi-dat/train_data/train_data\"\n",
    "dst = \"/kaggle/working/train_data\"\n",
    "\n",
    "# Copy dataset to a writable location\n",
    "shutil.copytree(src, dst, dirs_exist_ok=True)\n",
    "\n",
    "print(\"Dataset copied successfully!\")"
   ]
  },
  {
   "cell_type": "code",
   "execution_count": null,
   "metadata": {
    "execution": {
     "iopub.execute_input": "2025-02-21T16:36:17.985001Z",
     "iopub.status.busy": "2025-02-21T16:36:17.984657Z",
     "iopub.status.idle": "2025-02-21T16:36:19.430974Z",
     "shell.execute_reply": "2025-02-21T16:36:19.430323Z",
     "shell.execute_reply.started": "2025-02-21T16:36:17.984977Z"
    },
    "trusted": true
   },
   "outputs": [],
   "source": [
    "import os\n",
    "from PIL import Image\n",
    "\n",
    "def is_valid_image(image_path):\n",
    "    try:\n",
    "        with Image.open(image_path) as img:\n",
    "            img.verify()\n",
    "        return True\n",
    "    except (IOError, SyntaxError):\n",
    "        return False\n",
    "\n",
    "data_dir = \"/kaggle/working/train_data\"\n",
    "\n",
    "for image_class in os.listdir(data_dir):\n",
    "    class_path = os.path.join(data_dir, image_class)\n",
    "\n",
    "    for image in os.listdir(class_path):\n",
    "        image_path = os.path.join(class_path, image)\n",
    "\n",
    "        if not is_valid_image(image_path):\n",
    "            print(f\"Removing non-image file: {image_path}\")\n",
    "            os.remove(image_path)\n"
   ]
  },
  {
   "cell_type": "code",
   "execution_count": null,
   "metadata": {
    "execution": {
     "iopub.execute_input": "2025-02-21T16:36:27.736482Z",
     "iopub.status.busy": "2025-02-21T16:36:27.736188Z",
     "iopub.status.idle": "2025-02-21T16:36:29.848204Z",
     "shell.execute_reply": "2025-02-21T16:36:29.846465Z",
     "shell.execute_reply.started": "2025-02-21T16:36:27.736461Z"
    },
    "trusted": true
   },
   "outputs": [],
   "source": [
    "data = tf.keras.utils.image_dataset_from_directory('/kaggle/working/train_data')\n",
    "data_array = data.as_numpy_iterator()\n",
    "batch = data_array.next()"
   ]
  },
  {
   "cell_type": "code",
   "execution_count": null,
   "metadata": {
    "execution": {
     "iopub.execute_input": "2025-02-21T16:36:31.023292Z",
     "iopub.status.busy": "2025-02-21T16:36:31.022946Z",
     "iopub.status.idle": "2025-02-21T16:36:31.028936Z",
     "shell.execute_reply": "2025-02-21T16:36:31.028030Z",
     "shell.execute_reply.started": "2025-02-21T16:36:31.023270Z"
    },
    "trusted": true
   },
   "outputs": [],
   "source": [
    "batch[0].shape"
   ]
  },
  {
   "cell_type": "code",
   "execution_count": null,
   "metadata": {
    "execution": {
     "iopub.execute_input": "2025-02-21T16:37:14.517388Z",
     "iopub.status.busy": "2025-02-21T16:37:14.517081Z",
     "iopub.status.idle": "2025-02-21T16:37:17.043867Z",
     "shell.execute_reply": "2025-02-21T16:37:17.043006Z",
     "shell.execute_reply.started": "2025-02-21T16:37:14.517367Z"
    },
    "trusted": true
   },
   "outputs": [],
   "source": [
    "import matplotlib.pyplot as plt\n",
    "\n",
    "fig, ax = plt.subplots(ncols=4, figsize=(20,20))\n",
    "for idx, img in enumerate(batch[0][:4]):\n",
    "    ax[idx].imshow(img.astype(int))\n",
    "    ax[idx].title.set_text(batch[1][idx])\n",
    "\n",
    "scaled = batch[0]/255\n",
    "scaled.max()\n",
    "data = data.map(lambda x,y: (x/255, y))\n",
    "\n",
    "scaled_array = data.as_numpy_iterator()\n",
    "scaled_batch = scaled_array.next()\n",
    "scaled_batch[0].max()\n",
    "\n",
    "fig, ax = plt.subplots(ncols=4, figsize=(20,20))\n",
    "for idx, img in enumerate(scaled_batch[0][:4]):\n",
    "    ax[idx].imshow(img)\n",
    "    ax[idx].title.set_text(batch[1][idx])"
   ]
  },
  {
   "cell_type": "code",
   "execution_count": null,
   "metadata": {
    "execution": {
     "iopub.execute_input": "2025-02-21T16:37:23.763948Z",
     "iopub.status.busy": "2025-02-21T16:37:23.763589Z",
     "iopub.status.idle": "2025-02-21T16:37:23.778771Z",
     "shell.execute_reply": "2025-02-21T16:37:23.777979Z",
     "shell.execute_reply.started": "2025-02-21T16:37:23.763917Z"
    },
    "trusted": true
   },
   "outputs": [],
   "source": [
    "len(data)\n",
    "\n",
    "train_size = int(len(data)*.8)\n",
    "val_size = int(len(data)*.2)\n",
    "print(train_size+val_size)\n",
    "\n",
    "train = data.take(train_size)\n",
    "val = data.skip(train_size).take(val_size)"
   ]
  },
  {
   "cell_type": "code",
   "execution_count": null,
   "metadata": {
    "execution": {
     "iopub.execute_input": "2025-02-21T16:37:27.288696Z",
     "iopub.status.busy": "2025-02-21T16:37:27.288382Z",
     "iopub.status.idle": "2025-02-21T16:37:29.595218Z",
     "shell.execute_reply": "2025-02-21T16:37:29.594575Z",
     "shell.execute_reply.started": "2025-02-21T16:37:27.288674Z"
    },
    "trusted": true
   },
   "outputs": [],
   "source": [
    "import tensorflow as tf\n",
    "from tensorflow.keras.applications import ResNet101\n",
    "\n",
    "base_model = ResNet101(include_top=False, weights=\"imagenet\", input_shape=(256, 256, 3))\n",
    "\n",
    "for layer in base_model.layers[:int(0.05 * len(base_model.layers))]:\n",
    "    layer.trainable = True\n",
    "\n",
    "inputs = tf.keras.Input(shape=(256, 256, 3))\n",
    "x = base_model(inputs, training=True)  \n",
    "x = tf.keras.layers.GlobalAveragePooling2D()(x)\n",
    "x = tf.keras.layers.BatchNormalization()(x)  \n",
    "x = tf.keras.layers.Dense(2048, activation=\"relu\", kernel_regularizer=tf.keras.regularizers.l2(0.01))(x) \n",
    "x = tf.keras.layers.Dropout(0.6)(x)  \n",
    "outputs = tf.keras.layers.Dense(249, activation=\"softmax\")(x)\n",
    "\n",
    "optimizer = tf.keras.optimizers.Adam(learning_rate=0.0001) \n",
    "\n",
    "model = tf.keras.Model(inputs, outputs)\n",
    "model.compile(optimizer=optimizer, loss=tf.losses.SparseCategoricalCrossentropy(), metrics=['accuracy'])\n",
    "\n",
    "#lr_scheduler = tf.keras.callbacks.ReduceLROnPlateau(monitor=\"val_loss\", factor=0.5, patience=3, verbose=1)\n",
    "lr_schedule = tf.keras.optimizers.schedules.CosineDecay(\n",
    "    initial_learning_rate=0.001, decay_steps=10000, alpha=0.0001\n",
    ")\n",
    "optimizer = tf.keras.optimizers.Adam(learning_rate=lr_schedule)\n",
    "\n",
    "early_stopping = tf.keras.callbacks.EarlyStopping(monitor=\"val_loss\", patience=5, restore_best_weights=True)\n",
    "\n",
    "model.summary()\n"
   ]
  },
  {
   "cell_type": "code",
   "execution_count": null,
   "metadata": {
    "execution": {
     "iopub.execute_input": "2025-02-21T16:33:04.000938Z",
     "iopub.status.busy": "2025-02-21T16:33:04.000651Z",
     "iopub.status.idle": "2025-02-21T16:33:04.165500Z",
     "shell.execute_reply": "2025-02-21T16:33:04.164603Z",
     "shell.execute_reply.started": "2025-02-21T16:33:04.000919Z"
    },
    "trusted": true
   },
   "outputs": [],
   "source": [
    "!mkdir logs1\n",
    "logdir = 'logs1'\n",
    "model.summary()\n",
    "tensorboard_callback = tf.keras.callbacks.TensorBoard(log_dir=logdir)"
   ]
  },
  {
   "cell_type": "code",
   "execution_count": null,
   "metadata": {
    "execution": {
     "iopub.execute_input": "2025-02-21T16:37:36.802943Z",
     "iopub.status.busy": "2025-02-21T16:37:36.802634Z",
     "iopub.status.idle": "2025-02-21T17:13:20.304754Z",
     "shell.execute_reply": "2025-02-21T17:13:20.303762Z",
     "shell.execute_reply.started": "2025-02-21T16:37:36.802920Z"
    },
    "trusted": true
   },
   "outputs": [],
   "source": [
    "hist = model.fit(train, epochs=13, batch_size=32, validation_data=val, callbacks=[tensorboard_callback, early_stopping])\n"
   ]
  },
  {
   "cell_type": "code",
   "execution_count": null,
   "metadata": {
    "execution": {
     "iopub.execute_input": "2025-02-21T17:13:46.542010Z",
     "iopub.status.busy": "2025-02-21T17:13:46.541676Z",
     "iopub.status.idle": "2025-02-21T17:13:46.793686Z",
     "shell.execute_reply": "2025-02-21T17:13:46.792967Z",
     "shell.execute_reply.started": "2025-02-21T17:13:46.541971Z"
    },
    "trusted": true
   },
   "outputs": [],
   "source": [
    "fig = plt.plot()\n",
    "plt.plot(hist.history['loss'], color='teal', label='loss')\n",
    "plt.plot(hist.history['val_loss'], color='orange', label='val_loss')\n",
    "#fig.suptitle('loss', fontsize = 20)\n",
    "plt.show()\n",
    "\n",
    "fig = plt.plot()\n",
    "plt.plot(hist.history['accuracy'], color='teal', label='accuracy')\n",
    "plt.plot(hist.history['val_accuracy'], color='orange', label='val_accuracy')\n",
    "#fig.suptitle('loss', fontsize = 20)\n",
    "plt.show()"
   ]
  },
  {
   "cell_type": "code",
   "execution_count": null,
   "metadata": {
    "execution": {
     "iopub.execute_input": "2025-02-21T17:13:50.269305Z",
     "iopub.status.busy": "2025-02-21T17:13:50.269013Z",
     "iopub.status.idle": "2025-02-21T17:13:57.379617Z",
     "shell.execute_reply": "2025-02-21T17:13:57.377697Z",
     "shell.execute_reply.started": "2025-02-21T17:13:50.269283Z"
    },
    "trusted": true
   },
   "outputs": [],
   "source": [
    "from tensorflow.keras.metrics import Precision, Recall, CategoricalAccuracy\n",
    "\n",
    "test_data_dir = '/kaggle/input/dhi-dat/test data'\n",
    "\n",
    "test_data = tf.keras.utils.image_dataset_from_directory('/kaggle/input/dhi-dat/test data')\n",
    "test_data_array = test_data.as_numpy_iterator()\n",
    "test_batch = test_data_array.next()\n",
    "print(test_batch[0].shape)\n",
    "\n",
    "fig, ax = plt.subplots(ncols=4, figsize=(20,20))\n",
    "for idx, img in enumerate(test_batch[0][:4]):\n",
    "    ax[idx].imshow(img.astype(int))\n",
    "    ax[idx].title.set_text(batch[1][idx])\n",
    "\n",
    "test_data = test_data.map(lambda x,y: (x/255, y))\n",
    "scaled_test_array = test_data.as_numpy_iterator()\n",
    "scaled_test_batch = scaled_test_array.next()\n",
    "scaled_test_batch[0].max()\n",
    "\n",
    "fig, ax = plt.subplots(ncols=4, figsize=(20,20))\n",
    "for idx, img in enumerate(scaled_test_batch[0][:4]):\n",
    "    ax[idx].imshow(img)\n",
    "    ax[idx].title.set_text(batch[1][idx])"
   ]
  },
  {
   "cell_type": "code",
   "execution_count": null,
   "metadata": {
    "execution": {
     "iopub.execute_input": "2025-02-21T17:14:01.580444Z",
     "iopub.status.busy": "2025-02-21T17:14:01.580109Z",
     "iopub.status.idle": "2025-02-21T17:15:29.303251Z",
     "shell.execute_reply": "2025-02-21T17:15:29.302565Z",
     "shell.execute_reply.started": "2025-02-21T17:14:01.580416Z"
    },
    "trusted": true
   },
   "outputs": [],
   "source": [
    "pre = Precision()\n",
    "re = Recall()\n",
    "acc = CategoricalAccuracy()\n",
    "\n",
    "for batch in scaled_array:\n",
    "  X, Y = batch\n",
    "  yhat = model.predict(X)\n",
    "\n",
    "  Y = tf.one_hot(Y, depth=249)\n",
    "\n",
    "  pre.update_state(Y, yhat)\n",
    "  re.update_state(Y, yhat)\n",
    "  acc.update_state(Y, yhat)"
   ]
  },
  {
   "cell_type": "code",
   "execution_count": null,
   "metadata": {
    "execution": {
     "iopub.execute_input": "2025-02-21T17:16:16.439721Z",
     "iopub.status.busy": "2025-02-21T17:16:16.439356Z",
     "iopub.status.idle": "2025-02-21T17:16:16.451326Z",
     "shell.execute_reply": "2025-02-21T17:16:16.450448Z",
     "shell.execute_reply.started": "2025-02-21T17:16:16.439694Z"
    },
    "trusted": true
   },
   "outputs": [],
   "source": [
    "print(f'Precission:{pre.result().numpy()}, Recall:{re.result().numpy()},Accuracy:{acc.result().numpy()}')"
   ]
  },
  {
   "cell_type": "code",
   "execution_count": null,
   "metadata": {
    "execution": {
     "iopub.execute_input": "2025-02-21T17:16:20.629797Z",
     "iopub.status.busy": "2025-02-21T17:16:20.629430Z",
     "iopub.status.idle": "2025-02-21T17:16:20.662111Z",
     "shell.execute_reply": "2025-02-21T17:16:20.660833Z",
     "shell.execute_reply.started": "2025-02-21T17:16:20.629770Z"
    },
    "trusted": true
   },
   "outputs": [],
   "source": [
    "# class_names = data.class_names\n",
    "\n",
    "# predicted_class_index = np.argmax(yhat)\n",
    "\n",
    "# predicted_class_name = class_names[predicted_class_index]\n",
    "# print(f\"Predicted class index: {predicted_class_index}\")\n",
    "# print(f\"Predicted class name: {predicted_class_name}\")\n",
    "\n",
    "# train_data = tf.keras.utils.image_dataset_from_directory('dhi_dataset/train_data/train_data')\n",
    "# class_names = train_data.class_names\n",
    "\n"
   ]
  },
  {
   "cell_type": "code",
   "execution_count": null,
   "metadata": {
    "execution": {
     "iopub.execute_input": "2025-02-21T17:16:22.879578Z",
     "iopub.status.busy": "2025-02-21T17:16:22.879273Z",
     "iopub.status.idle": "2025-02-21T17:19:40.835268Z",
     "shell.execute_reply": "2025-02-21T17:19:40.834575Z",
     "shell.execute_reply.started": "2025-02-21T17:16:22.879555Z"
    },
    "trusted": true
   },
   "outputs": [],
   "source": [
    "import pandas as pd\n",
    "import os\n",
    "import tensorflow as tf\n",
    "import numpy as np\n",
    "\n",
    "template_df = pd.read_csv('/kaggle/input/dhi-dat/submission template.csv') \n",
    "\n",
    "train_data = tf.keras.utils.image_dataset_from_directory('/kaggle/input/dhi-dat/train_data/train_data')\n",
    "class_names = train_data.class_names\n",
    "\n",
    "\n",
    "test_data_dir = '/kaggle/input/dhi-dat/test data/test data'\n",
    "\n",
    "\n",
    "for filename in os.listdir(test_data_dir):\n",
    "    if filename.endswith(('.jpg', '.jpeg', '.png')):  \n",
    "        image_path = os.path.join(test_data_dir, filename)\n",
    "\n",
    "        img = tf.keras.utils.load_img(image_path, target_size=(256, 256)) \n",
    "        img_array = tf.keras.utils.img_to_array(img)\n",
    "        img_array = np.expand_dims(img_array, axis=0) / 255.0 \n",
    "\n",
    "        prediction = model.predict(img_array)\n",
    "        predicted_class_index = np.argmax(prediction)\n",
    "        predicted_class_name = class_names[predicted_class_index]\n",
    "\n",
    "        template_df.loc[template_df['img_name'] == filename, 'Class Prediction'] = predicted_class_name\n",
    "\n",
    "template_df.to_csv('updated_template.csv', index=False) \n",
    "print(\"Predictions saved to updated_template.csv\")"
   ]
  },
  {
   "cell_type": "code",
   "execution_count": null,
   "metadata": {
    "execution": {
     "iopub.execute_input": "2025-02-21T17:21:01.710583Z",
     "iopub.status.busy": "2025-02-21T17:21:01.710222Z",
     "iopub.status.idle": "2025-02-21T17:21:01.715831Z",
     "shell.execute_reply": "2025-02-21T17:21:01.715115Z",
     "shell.execute_reply.started": "2025-02-21T17:21:01.710553Z"
    },
    "trusted": true
   },
   "outputs": [],
   "source": [
    "import shutil\n",
    "shutil.move(\"updated_template.csv\", \"/kaggle/working/updated_template.csv\")"
   ]
  },
  {
   "cell_type": "code",
   "execution_count": null,
   "metadata": {
    "execution": {
     "iopub.execute_input": "2025-02-21T17:21:03.710736Z",
     "iopub.status.busy": "2025-02-21T17:21:03.710426Z",
     "iopub.status.idle": "2025-02-21T17:21:03.715674Z",
     "shell.execute_reply": "2025-02-21T17:21:03.714894Z",
     "shell.execute_reply.started": "2025-02-21T17:21:03.710715Z"
    },
    "trusted": true
   },
   "outputs": [],
   "source": [
    "import os\n",
    "\n",
    "file_path = \"/kaggle/working/updated_template.csv\"  \n",
    "\n",
    "if os.path.exists(file_path):\n",
    "    print(\"File found\")\n",
    "else:\n",
    "    print(\"File NOT found\")"
   ]
  },
  {
   "cell_type": "code",
   "execution_count": null,
   "metadata": {
    "execution": {
     "iopub.execute_input": "2025-02-21T17:21:09.584985Z",
     "iopub.status.busy": "2025-02-21T17:21:09.584699Z",
     "iopub.status.idle": "2025-02-21T17:21:09.590263Z",
     "shell.execute_reply": "2025-02-21T17:21:09.589540Z",
     "shell.execute_reply.started": "2025-02-21T17:21:09.584965Z"
    },
    "trusted": true
   },
   "outputs": [],
   "source": [
    "from IPython.display import FileLink\n",
    "\n",
    "file_path = \"/kaggle/working/updated_template.csv\"  \n",
    "FileLink(file_path)"
   ]
  }
 ],
 "metadata": {
  "kaggle": {
   "accelerator": "none",
   "dataSources": [
    {
     "datasetId": 6710333,
     "sourceId": 10809913,
     "sourceType": "datasetVersion"
    }
   ],
   "dockerImageVersionId": 30919,
   "isGpuEnabled": false,
   "isInternetEnabled": false,
   "language": "python",
   "sourceType": "notebook"
  },
  "kernelspec": {
   "display_name": "Python 3",
   "language": "python",
   "name": "python3"
  },
  "language_info": {
   "codemirror_mode": {
    "name": "ipython",
    "version": 3
   },
   "file_extension": ".py",
   "mimetype": "text/x-python",
   "name": "python",
   "nbconvert_exporter": "python",
   "pygments_lexer": "ipython3",
   "version": "3.11.4"
  }
 },
 "nbformat": 4,
 "nbformat_minor": 4
}
